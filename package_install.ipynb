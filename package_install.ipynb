{
 "cells": [
  {
   "cell_type": "markdown",
   "id": "11f286c8",
   "metadata": {},
   "source": [
    "# Package requirements \n",
    "\n",
    "File này dùng để tải một số package cần thiết cho quá trình chạy chương trình. Danh sách này có thể không đầy đủ"
   ]
  },
  {
   "cell_type": "markdown",
   "id": "2bf68343",
   "metadata": {},
   "source": [
    "## gpt4all"
   ]
  },
  {
   "cell_type": "code",
   "execution_count": 1,
   "id": "33a2499f",
   "metadata": {},
   "outputs": [
    {
     "name": "stdout",
     "output_type": "stream",
     "text": [
      "Collecting gpt4all\n",
      "  Downloading gpt4all-2.8.2-py3-none-win_amd64.whl.metadata (4.8 kB)\n",
      "Requirement already satisfied: requests in d:\\anaconda3\\envs\\langchainenv\\lib\\site-packages (from gpt4all) (2.32.3)\n",
      "Requirement already satisfied: tqdm in d:\\anaconda3\\envs\\langchainenv\\lib\\site-packages (from gpt4all) (4.66.5)\n",
      "Requirement already satisfied: charset-normalizer<4,>=2 in d:\\anaconda3\\envs\\langchainenv\\lib\\site-packages (from requests->gpt4all) (3.4.0)\n",
      "Requirement already satisfied: idna<4,>=2.5 in d:\\anaconda3\\envs\\langchainenv\\lib\\site-packages (from requests->gpt4all) (3.10)\n",
      "Requirement already satisfied: urllib3<3,>=1.21.1 in d:\\anaconda3\\envs\\langchainenv\\lib\\site-packages (from requests->gpt4all) (2.2.3)\n",
      "Requirement already satisfied: certifi>=2017.4.17 in d:\\anaconda3\\envs\\langchainenv\\lib\\site-packages (from requests->gpt4all) (2024.8.30)\n",
      "Requirement already satisfied: colorama in d:\\anaconda3\\envs\\langchainenv\\lib\\site-packages (from tqdm->gpt4all) (0.4.6)\n",
      "Downloading gpt4all-2.8.2-py3-none-win_amd64.whl (119.6 MB)\n",
      "   ---------------------------------------- 0.0/119.6 MB ? eta -:--:--\n",
      "   ---------------------------------------- 0.5/119.6 MB 5.6 MB/s eta 0:00:22\n",
      "   -- ------------------------------------- 6.8/119.6 MB 24.6 MB/s eta 0:00:05\n",
      "   ----- ---------------------------------- 17.8/119.6 MB 36.2 MB/s eta 0:00:03\n",
      "   --------- ------------------------------ 28.6/119.6 MB 41.2 MB/s eta 0:00:03\n",
      "   -------------- ------------------------- 43.0/119.6 MB 47.1 MB/s eta 0:00:02\n",
      "   ------------------- -------------------- 57.4/119.6 MB 51.5 MB/s eta 0:00:02\n",
      "   --------------------- ------------------ 65.0/119.6 MB 53.8 MB/s eta 0:00:02\n",
      "   ---------------------- ----------------- 68.2/119.6 MB 45.7 MB/s eta 0:00:02\n",
      "   ----------------------- ---------------- 71.3/119.6 MB 40.6 MB/s eta 0:00:02\n",
      "   -------------------------- ------------- 80.0/119.6 MB 40.5 MB/s eta 0:00:01\n",
      "   ------------------------------- -------- 94.9/119.6 MB 43.3 MB/s eta 0:00:01\n",
      "   ----------------------------------- --- 108.5/119.6 MB 45.0 MB/s eta 0:00:01\n",
      "   --------------------------------------  119.5/119.6 MB 46.3 MB/s eta 0:00:01\n",
      "   --------------------------------------  119.5/119.6 MB 46.3 MB/s eta 0:00:01\n",
      "   --------------------------------------  119.5/119.6 MB 46.3 MB/s eta 0:00:01\n",
      "   --------------------------------------- 119.6/119.6 MB 39.0 MB/s eta 0:00:00\n",
      "Installing collected packages: gpt4all\n",
      "Successfully installed gpt4all-2.8.2\n"
     ]
    }
   ],
   "source": [
    "!pip install gpt4all"
   ]
  },
  {
   "cell_type": "markdown",
   "id": "32ed702a",
   "metadata": {},
   "source": [
    "## faiss-gpu"
   ]
  },
  {
   "cell_type": "markdown",
   "id": "9636d185",
   "metadata": {},
   "source": [
    "Download thông qua: \n",
    "```\n",
    "pip install faiss-gpu \n",
    "``` "
   ]
  },
  {
   "cell_type": "markdown",
   "id": "fb46eed9",
   "metadata": {},
   "source": [
    "Trong trường hợp gặp lỗi và sử dụng anaconda, có thể download phiên bản `faiss-cpu` hoặc download bằng cách dưới đây:"
   ]
  },
  {
   "cell_type": "code",
   "execution_count": null,
   "id": "e65543c2",
   "metadata": {},
   "outputs": [],
   "source": [
    "!conda install -c conda-forge faiss-gpu"
   ]
  },
  {
   "cell_type": "markdown",
   "id": "c24cc9df",
   "metadata": {},
   "source": [
    "## ctransformers"
   ]
  },
  {
   "cell_type": "code",
   "execution_count": 6,
   "id": "6c6eb5df",
   "metadata": {},
   "outputs": [
    {
     "name": "stdout",
     "output_type": "stream",
     "text": [
      "Collecting ctransformers\n",
      "  Downloading ctransformers-0.2.27-py3-none-any.whl.metadata (17 kB)\n",
      "Requirement already satisfied: huggingface-hub in d:\\anaconda3\\envs\\langchainenv\\lib\\site-packages (from ctransformers) (0.26.1)\n",
      "Collecting py-cpuinfo<10.0.0,>=9.0.0 (from ctransformers)\n",
      "  Downloading py_cpuinfo-9.0.0-py3-none-any.whl.metadata (794 bytes)\n",
      "Requirement already satisfied: filelock in d:\\anaconda3\\envs\\langchainenv\\lib\\site-packages (from huggingface-hub->ctransformers) (3.16.1)\n",
      "Requirement already satisfied: fsspec>=2023.5.0 in d:\\anaconda3\\envs\\langchainenv\\lib\\site-packages (from huggingface-hub->ctransformers) (2024.10.0)\n",
      "Requirement already satisfied: packaging>=20.9 in d:\\anaconda3\\envs\\langchainenv\\lib\\site-packages (from huggingface-hub->ctransformers) (24.1)\n",
      "Requirement already satisfied: pyyaml>=5.1 in d:\\anaconda3\\envs\\langchainenv\\lib\\site-packages (from huggingface-hub->ctransformers) (6.0.2)\n",
      "Requirement already satisfied: requests in d:\\anaconda3\\envs\\langchainenv\\lib\\site-packages (from huggingface-hub->ctransformers) (2.32.3)\n",
      "Requirement already satisfied: tqdm>=4.42.1 in d:\\anaconda3\\envs\\langchainenv\\lib\\site-packages (from huggingface-hub->ctransformers) (4.66.5)\n",
      "Requirement already satisfied: typing-extensions>=3.7.4.3 in d:\\anaconda3\\envs\\langchainenv\\lib\\site-packages (from huggingface-hub->ctransformers) (4.12.2)\n",
      "Requirement already satisfied: colorama in d:\\anaconda3\\envs\\langchainenv\\lib\\site-packages (from tqdm>=4.42.1->huggingface-hub->ctransformers) (0.4.6)\n",
      "Requirement already satisfied: charset-normalizer<4,>=2 in d:\\anaconda3\\envs\\langchainenv\\lib\\site-packages (from requests->huggingface-hub->ctransformers) (3.4.0)\n",
      "Requirement already satisfied: idna<4,>=2.5 in d:\\anaconda3\\envs\\langchainenv\\lib\\site-packages (from requests->huggingface-hub->ctransformers) (3.10)\n",
      "Requirement already satisfied: urllib3<3,>=1.21.1 in d:\\anaconda3\\envs\\langchainenv\\lib\\site-packages (from requests->huggingface-hub->ctransformers) (2.2.3)\n",
      "Requirement already satisfied: certifi>=2017.4.17 in d:\\anaconda3\\envs\\langchainenv\\lib\\site-packages (from requests->huggingface-hub->ctransformers) (2025.1.31)\n",
      "Downloading ctransformers-0.2.27-py3-none-any.whl (9.9 MB)\n",
      "   ---------------------------------------- 0.0/9.9 MB ? eta -:--:--\n",
      "   -- ------------------------------------- 0.5/9.9 MB 4.2 MB/s eta 0:00:03\n",
      "   ------------------- -------------------- 4.7/9.9 MB 15.9 MB/s eta 0:00:01\n",
      "   ---------------------------------------- 9.9/9.9 MB 21.9 MB/s eta 0:00:00\n",
      "Downloading py_cpuinfo-9.0.0-py3-none-any.whl (22 kB)\n",
      "Installing collected packages: py-cpuinfo, ctransformers\n",
      "Successfully installed ctransformers-0.2.27 py-cpuinfo-9.0.0\n"
     ]
    }
   ],
   "source": [
    "!pip install ctransformers"
   ]
  },
  {
   "cell_type": "markdown",
   "id": "0f9e5125",
   "metadata": {},
   "source": [
    "## pypdf"
   ]
  },
  {
   "cell_type": "code",
   "execution_count": 7,
   "id": "f9d6d9ce",
   "metadata": {},
   "outputs": [
    {
     "name": "stdout",
     "output_type": "stream",
     "text": [
      "Collecting pypdf\n",
      "  Downloading pypdf-5.4.0-py3-none-any.whl.metadata (7.3 kB)\n",
      "Downloading pypdf-5.4.0-py3-none-any.whl (302 kB)\n",
      "Installing collected packages: pypdf\n",
      "Successfully installed pypdf-5.4.0\n"
     ]
    }
   ],
   "source": [
    "!pip install pypdf"
   ]
  },
  {
   "cell_type": "code",
   "execution_count": null,
   "id": "cc8fa375",
   "metadata": {},
   "outputs": [],
   "source": []
  }
 ],
 "metadata": {
  "kernelspec": {
   "display_name": "langChainEnv",
   "language": "python",
   "name": "python3"
  },
  "language_info": {
   "codemirror_mode": {
    "name": "ipython",
    "version": 3
   },
   "file_extension": ".py",
   "mimetype": "text/x-python",
   "name": "python",
   "nbconvert_exporter": "python",
   "pygments_lexer": "ipython3",
   "version": "3.12.3"
  }
 },
 "nbformat": 4,
 "nbformat_minor": 5
}
