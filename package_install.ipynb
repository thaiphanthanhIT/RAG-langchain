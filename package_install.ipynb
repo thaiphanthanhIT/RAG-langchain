{
 "cells": [
  {
   "cell_type": "markdown",
   "id": "11f286c8",
   "metadata": {},
   "source": [
    "# Package requirements \n",
    "\n",
    "File này dùng để tải một số package cần thiết cho quá trình chạy chương trình. Danh sách này có thể không đầy đủ"
   ]
  },
  {
   "cell_type": "markdown",
   "id": "2bf68343",
   "metadata": {},
   "source": [
    "## gpt4all"
   ]
  },
  {
   "cell_type": "code",
   "execution_count": 1,
   "id": "33a2499f",
   "metadata": {},
   "outputs": [
    {
     "name": "stdout",
     "output_type": "stream",
     "text": [
      "Collecting gpt4all\n",
      "  Downloading gpt4all-2.8.2-py3-none-win_amd64.whl.metadata (4.8 kB)\n",
      "Requirement already satisfied: requests in d:\\anaconda3\\envs\\langchainenv\\lib\\site-packages (from gpt4all) (2.32.3)\n",
      "Requirement already satisfied: tqdm in d:\\anaconda3\\envs\\langchainenv\\lib\\site-packages (from gpt4all) (4.66.5)\n",
      "Requirement already satisfied: charset-normalizer<4,>=2 in d:\\anaconda3\\envs\\langchainenv\\lib\\site-packages (from requests->gpt4all) (3.4.0)\n",
      "Requirement already satisfied: idna<4,>=2.5 in d:\\anaconda3\\envs\\langchainenv\\lib\\site-packages (from requests->gpt4all) (3.10)\n",
      "Requirement already satisfied: urllib3<3,>=1.21.1 in d:\\anaconda3\\envs\\langchainenv\\lib\\site-packages (from requests->gpt4all) (2.2.3)\n",
      "Requirement already satisfied: certifi>=2017.4.17 in d:\\anaconda3\\envs\\langchainenv\\lib\\site-packages (from requests->gpt4all) (2024.8.30)\n",
      "Requirement already satisfied: colorama in d:\\anaconda3\\envs\\langchainenv\\lib\\site-packages (from tqdm->gpt4all) (0.4.6)\n",
      "Downloading gpt4all-2.8.2-py3-none-win_amd64.whl (119.6 MB)\n",
      "   ---------------------------------------- 0.0/119.6 MB ? eta -:--:--\n",
      "   ---------------------------------------- 0.5/119.6 MB 5.6 MB/s eta 0:00:22\n",
      "   -- ------------------------------------- 6.8/119.6 MB 24.6 MB/s eta 0:00:05\n",
      "   ----- ---------------------------------- 17.8/119.6 MB 36.2 MB/s eta 0:00:03\n",
      "   --------- ------------------------------ 28.6/119.6 MB 41.2 MB/s eta 0:00:03\n",
      "   -------------- ------------------------- 43.0/119.6 MB 47.1 MB/s eta 0:00:02\n",
      "   ------------------- -------------------- 57.4/119.6 MB 51.5 MB/s eta 0:00:02\n",
      "   --------------------- ------------------ 65.0/119.6 MB 53.8 MB/s eta 0:00:02\n",
      "   ---------------------- ----------------- 68.2/119.6 MB 45.7 MB/s eta 0:00:02\n",
      "   ----------------------- ---------------- 71.3/119.6 MB 40.6 MB/s eta 0:00:02\n",
      "   -------------------------- ------------- 80.0/119.6 MB 40.5 MB/s eta 0:00:01\n",
      "   ------------------------------- -------- 94.9/119.6 MB 43.3 MB/s eta 0:00:01\n",
      "   ----------------------------------- --- 108.5/119.6 MB 45.0 MB/s eta 0:00:01\n",
      "   --------------------------------------  119.5/119.6 MB 46.3 MB/s eta 0:00:01\n",
      "   --------------------------------------  119.5/119.6 MB 46.3 MB/s eta 0:00:01\n",
      "   --------------------------------------  119.5/119.6 MB 46.3 MB/s eta 0:00:01\n",
      "   --------------------------------------- 119.6/119.6 MB 39.0 MB/s eta 0:00:00\n",
      "Installing collected packages: gpt4all\n",
      "Successfully installed gpt4all-2.8.2\n"
     ]
    }
   ],
   "source": [
    "!pip install gpt4all"
   ]
  },
  {
   "cell_type": "markdown",
   "id": "32ed702a",
   "metadata": {},
   "source": [
    "## faiss-gpu"
   ]
  },
  {
   "cell_type": "markdown",
   "id": "9636d185",
   "metadata": {},
   "source": [
    "Download thông qua: \n",
    "```\n",
    "pip install faiss-gpu \n",
    "``` "
   ]
  },
  {
   "cell_type": "markdown",
   "id": "fb46eed9",
   "metadata": {},
   "source": [
    "Trong trường hợp gặp lỗi và sử dụng anaconda, có thể download phiên bản `faiss-cpu` hoặc download bằng cách dưới đây:"
   ]
  },
  {
   "cell_type": "code",
   "execution_count": null,
   "id": "e65543c2",
   "metadata": {},
   "outputs": [],
   "source": [
    "!conda install -c conda-forge faiss-gpu"
   ]
  },
  {
   "cell_type": "markdown",
   "id": "c24cc9df",
   "metadata": {},
   "source": [
    "## ctransformers"
   ]
  },
  {
   "cell_type": "code",
   "execution_count": 6,
   "id": "6c6eb5df",
   "metadata": {},
   "outputs": [
    {
     "name": "stdout",
     "output_type": "stream",
     "text": [
      "Collecting ctransformers\n",
      "  Downloading ctransformers-0.2.27-py3-none-any.whl.metadata (17 kB)\n",
      "Requirement already satisfied: huggingface-hub in d:\\anaconda3\\envs\\langchainenv\\lib\\site-packages (from ctransformers) (0.26.1)\n",
      "Collecting py-cpuinfo<10.0.0,>=9.0.0 (from ctransformers)\n",
      "  Downloading py_cpuinfo-9.0.0-py3-none-any.whl.metadata (794 bytes)\n",
      "Requirement already satisfied: filelock in d:\\anaconda3\\envs\\langchainenv\\lib\\site-packages (from huggingface-hub->ctransformers) (3.16.1)\n",
      "Requirement already satisfied: fsspec>=2023.5.0 in d:\\anaconda3\\envs\\langchainenv\\lib\\site-packages (from huggingface-hub->ctransformers) (2024.10.0)\n",
      "Requirement already satisfied: packaging>=20.9 in d:\\anaconda3\\envs\\langchainenv\\lib\\site-packages (from huggingface-hub->ctransformers) (24.1)\n",
      "Requirement already satisfied: pyyaml>=5.1 in d:\\anaconda3\\envs\\langchainenv\\lib\\site-packages (from huggingface-hub->ctransformers) (6.0.2)\n",
      "Requirement already satisfied: requests in d:\\anaconda3\\envs\\langchainenv\\lib\\site-packages (from huggingface-hub->ctransformers) (2.32.3)\n",
      "Requirement already satisfied: tqdm>=4.42.1 in d:\\anaconda3\\envs\\langchainenv\\lib\\site-packages (from huggingface-hub->ctransformers) (4.66.5)\n",
      "Requirement already satisfied: typing-extensions>=3.7.4.3 in d:\\anaconda3\\envs\\langchainenv\\lib\\site-packages (from huggingface-hub->ctransformers) (4.12.2)\n",
      "Requirement already satisfied: colorama in d:\\anaconda3\\envs\\langchainenv\\lib\\site-packages (from tqdm>=4.42.1->huggingface-hub->ctransformers) (0.4.6)\n",
      "Requirement already satisfied: charset-normalizer<4,>=2 in d:\\anaconda3\\envs\\langchainenv\\lib\\site-packages (from requests->huggingface-hub->ctransformers) (3.4.0)\n",
      "Requirement already satisfied: idna<4,>=2.5 in d:\\anaconda3\\envs\\langchainenv\\lib\\site-packages (from requests->huggingface-hub->ctransformers) (3.10)\n",
      "Requirement already satisfied: urllib3<3,>=1.21.1 in d:\\anaconda3\\envs\\langchainenv\\lib\\site-packages (from requests->huggingface-hub->ctransformers) (2.2.3)\n",
      "Requirement already satisfied: certifi>=2017.4.17 in d:\\anaconda3\\envs\\langchainenv\\lib\\site-packages (from requests->huggingface-hub->ctransformers) (2025.1.31)\n",
      "Downloading ctransformers-0.2.27-py3-none-any.whl (9.9 MB)\n",
      "   ---------------------------------------- 0.0/9.9 MB ? eta -:--:--\n",
      "   -- ------------------------------------- 0.5/9.9 MB 4.2 MB/s eta 0:00:03\n",
      "   ------------------- -------------------- 4.7/9.9 MB 15.9 MB/s eta 0:00:01\n",
      "   ---------------------------------------- 9.9/9.9 MB 21.9 MB/s eta 0:00:00\n",
      "Downloading py_cpuinfo-9.0.0-py3-none-any.whl (22 kB)\n",
      "Installing collected packages: py-cpuinfo, ctransformers\n",
      "Successfully installed ctransformers-0.2.27 py-cpuinfo-9.0.0\n"
     ]
    }
   ],
   "source": [
    "!pip install ctransformers"
   ]
  },
  {
   "cell_type": "markdown",
   "id": "0f9e5125",
   "metadata": {},
   "source": [
    "## pypdf"
   ]
  },
  {
   "cell_type": "code",
   "execution_count": 7,
   "id": "f9d6d9ce",
   "metadata": {},
   "outputs": [
    {
     "name": "stdout",
     "output_type": "stream",
     "text": [
      "Collecting pypdf\n",
      "  Downloading pypdf-5.4.0-py3-none-any.whl.metadata (7.3 kB)\n",
      "Downloading pypdf-5.4.0-py3-none-any.whl (302 kB)\n",
      "Installing collected packages: pypdf\n",
      "Successfully installed pypdf-5.4.0\n"
     ]
    }
   ],
   "source": [
    "!pip install pypdf"
   ]
  },
  {
   "cell_type": "markdown",
   "id": "a4b51805",
   "metadata": {},
   "source": [
    "## duckduck-go"
   ]
  },
  {
   "cell_type": "code",
   "execution_count": 1,
   "id": "cc8fa375",
   "metadata": {},
   "outputs": [
    {
     "name": "stdout",
     "output_type": "stream",
     "text": [
      "Collecting duckduckgo-search\n",
      "  Downloading duckduckgo_search-8.0.1-py3-none-any.whl.metadata (16 kB)\n",
      "Collecting click>=8.1.8 (from duckduckgo-search)\n",
      "  Downloading click-8.1.8-py3-none-any.whl.metadata (2.3 kB)\n",
      "Collecting primp>=0.15.0 (from duckduckgo-search)\n",
      "  Downloading primp-0.15.0-cp38-abi3-win_amd64.whl.metadata (13 kB)\n",
      "Collecting lxml>=5.3.0 (from duckduckgo-search)\n",
      "  Downloading lxml-5.4.0-cp312-cp312-win_amd64.whl.metadata (3.6 kB)\n",
      "Requirement already satisfied: colorama in d:\\anaconda3\\envs\\langchainenv\\lib\\site-packages (from click>=8.1.8->duckduckgo-search) (0.4.6)\n",
      "Downloading duckduckgo_search-8.0.1-py3-none-any.whl (18 kB)\n",
      "Downloading click-8.1.8-py3-none-any.whl (98 kB)\n",
      "Downloading lxml-5.4.0-cp312-cp312-win_amd64.whl (3.8 MB)\n",
      "   ---------------------------------------- 0.0/3.8 MB ? eta -:--:--\n",
      "   ------------- -------------------------- 1.3/3.8 MB 7.4 MB/s eta 0:00:01\n",
      "   ---------------------------------------- 3.8/3.8 MB 14.2 MB/s eta 0:00:00\n",
      "Downloading primp-0.15.0-cp38-abi3-win_amd64.whl (3.1 MB)\n",
      "   ---------------------------------------- 0.0/3.1 MB ? eta -:--:--\n",
      "   ---------------------------------------- 3.1/3.1 MB 30.7 MB/s eta 0:00:00\n",
      "Installing collected packages: primp, lxml, click, duckduckgo-search\n",
      "  Attempting uninstall: click\n",
      "    Found existing installation: click 8.1.7\n",
      "    Uninstalling click-8.1.7:\n",
      "      Successfully uninstalled click-8.1.7\n",
      "Successfully installed click-8.1.8 duckduckgo-search-8.0.1 lxml-5.4.0 primp-0.15.0\n"
     ]
    }
   ],
   "source": [
    "!pip install duckduckgo-search"
   ]
  },
  {
   "cell_type": "markdown",
   "id": "03296a65",
   "metadata": {},
   "source": [
    "## elasticsearch"
   ]
  },
  {
   "cell_type": "code",
   "execution_count": 1,
   "id": "2aa8c6f8",
   "metadata": {},
   "outputs": [
    {
     "name": "stdout",
     "output_type": "stream",
     "text": [
      "Collecting elasticsearch\n",
      "  Downloading elasticsearch-9.0.1-py3-none-any.whl.metadata (8.5 kB)\n",
      "Collecting elastic-transport<9,>=8.15.1 (from elasticsearch)\n",
      "  Downloading elastic_transport-8.17.1-py3-none-any.whl.metadata (3.8 kB)\n",
      "Requirement already satisfied: python-dateutil in d:\\anaconda3\\envs\\langchainenv\\lib\\site-packages (from elasticsearch) (2.9.0)\n",
      "Requirement already satisfied: typing-extensions in d:\\anaconda3\\envs\\langchainenv\\lib\\site-packages (from elasticsearch) (4.12.2)\n",
      "Requirement already satisfied: urllib3<3,>=1.26.2 in d:\\anaconda3\\envs\\langchainenv\\lib\\site-packages (from elastic-transport<9,>=8.15.1->elasticsearch) (2.2.3)\n",
      "Requirement already satisfied: certifi in d:\\anaconda3\\envs\\langchainenv\\lib\\site-packages (from elastic-transport<9,>=8.15.1->elasticsearch) (2025.1.31)\n",
      "Requirement already satisfied: six>=1.5 in d:\\anaconda3\\envs\\langchainenv\\lib\\site-packages (from python-dateutil->elasticsearch) (1.16.0)\n",
      "Downloading elasticsearch-9.0.1-py3-none-any.whl (905 kB)\n",
      "   ---------------------------------------- 0.0/905.5 kB ? eta -:--:--\n",
      "   ---------------------------------------- 0.0/905.5 kB ? eta -:--:--\n",
      "   ----------- ---------------------------- 262.1/905.5 kB ? eta -:--:--\n",
      "   ----------------------- ---------------- 524.3/905.5 kB 1.2 MB/s eta 0:00:01\n",
      "   ---------------------------------------- 905.5/905.5 kB 1.2 MB/s eta 0:00:00\n",
      "Downloading elastic_transport-8.17.1-py3-none-any.whl (64 kB)\n",
      "Installing collected packages: elastic-transport, elasticsearch\n",
      "Successfully installed elastic-transport-8.17.1 elasticsearch-9.0.1\n"
     ]
    }
   ],
   "source": [
    "!pip install elasticsearch"
   ]
  },
  {
   "cell_type": "markdown",
   "id": "aad0a4d4",
   "metadata": {},
   "source": [
    "## langchain_google_community"
   ]
  },
  {
   "cell_type": "code",
   "execution_count": 1,
   "id": "8cf77e7e",
   "metadata": {},
   "outputs": [
    {
     "name": "stdout",
     "output_type": "stream",
     "text": [
      "Collecting langchain_google_community\n",
      "  Downloading langchain_google_community-2.0.7-py3-none-any.whl.metadata (3.5 kB)\n",
      "Collecting google-api-core<3.0.0,>=2.24.1 (from langchain_google_community)\n",
      "  Downloading google_api_core-2.24.2-py3-none-any.whl.metadata (3.0 kB)\n",
      "Collecting google-api-python-client<3.0.0,>=2.161.0 (from langchain_google_community)\n",
      "  Downloading google_api_python_client-2.170.0-py3-none-any.whl.metadata (6.7 kB)\n",
      "Collecting google-cloud-core<3.0.0,>=2.4.2 (from langchain_google_community)\n",
      "  Downloading google_cloud_core-2.4.3-py2.py3-none-any.whl.metadata (2.7 kB)\n",
      "Collecting grpcio<2.0.0,>=1.70.0 (from langchain_google_community)\n",
      "  Downloading grpcio-1.71.0-cp312-cp312-win_amd64.whl.metadata (4.0 kB)\n",
      "Requirement already satisfied: langchain-community<0.4.0,>=0.3.0 in d:\\anaconda3\\envs\\langchainenv\\lib\\site-packages (from langchain_google_community) (0.3.18)\n",
      "Requirement already satisfied: langchain-core<0.4,>=0.3.0 in d:\\anaconda3\\envs\\langchainenv\\lib\\site-packages (from langchain_google_community) (0.3.40)\n",
      "Requirement already satisfied: googleapis-common-protos<2.0.0,>=1.56.2 in d:\\anaconda3\\envs\\langchainenv\\lib\\site-packages (from google-api-core<3.0.0,>=2.24.1->langchain_google_community) (1.65.0)\n",
      "Requirement already satisfied: protobuf!=3.20.0,!=3.20.1,!=4.21.0,!=4.21.1,!=4.21.2,!=4.21.3,!=4.21.4,!=4.21.5,<7.0.0,>=3.19.5 in d:\\anaconda3\\envs\\langchainenv\\lib\\site-packages (from google-api-core<3.0.0,>=2.24.1->langchain_google_community) (5.28.3)\n",
      "Requirement already satisfied: proto-plus<2.0.0,>=1.22.3 in d:\\anaconda3\\envs\\langchainenv\\lib\\site-packages (from google-api-core<3.0.0,>=2.24.1->langchain_google_community) (1.25.0)\n",
      "Requirement already satisfied: google-auth<3.0.0,>=2.14.1 in d:\\anaconda3\\envs\\langchainenv\\lib\\site-packages (from google-api-core<3.0.0,>=2.24.1->langchain_google_community) (2.35.0)\n",
      "Requirement already satisfied: requests<3.0.0,>=2.18.0 in d:\\anaconda3\\envs\\langchainenv\\lib\\site-packages (from google-api-core<3.0.0,>=2.24.1->langchain_google_community) (2.32.3)\n",
      "Requirement already satisfied: httplib2<1.0.0,>=0.19.0 in d:\\anaconda3\\envs\\langchainenv\\lib\\site-packages (from google-api-python-client<3.0.0,>=2.161.0->langchain_google_community) (0.22.0)\n",
      "Requirement already satisfied: google-auth-httplib2<1.0.0,>=0.2.0 in d:\\anaconda3\\envs\\langchainenv\\lib\\site-packages (from google-api-python-client<3.0.0,>=2.161.0->langchain_google_community) (0.2.0)\n",
      "Requirement already satisfied: uritemplate<5,>=3.0.1 in d:\\anaconda3\\envs\\langchainenv\\lib\\site-packages (from google-api-python-client<3.0.0,>=2.161.0->langchain_google_community) (4.1.1)\n",
      "Requirement already satisfied: langchain<1.0.0,>=0.3.19 in d:\\anaconda3\\envs\\langchainenv\\lib\\site-packages (from langchain-community<0.4.0,>=0.3.0->langchain_google_community) (0.3.19)\n",
      "Requirement already satisfied: SQLAlchemy<3,>=1.4 in d:\\anaconda3\\envs\\langchainenv\\lib\\site-packages (from langchain-community<0.4.0,>=0.3.0->langchain_google_community) (2.0.34)\n",
      "Requirement already satisfied: PyYAML>=5.3 in d:\\anaconda3\\envs\\langchainenv\\lib\\site-packages (from langchain-community<0.4.0,>=0.3.0->langchain_google_community) (6.0.2)\n",
      "Requirement already satisfied: aiohttp<4.0.0,>=3.8.3 in d:\\anaconda3\\envs\\langchainenv\\lib\\site-packages (from langchain-community<0.4.0,>=0.3.0->langchain_google_community) (3.10.5)\n",
      "Requirement already satisfied: tenacity!=8.4.0,<10,>=8.1.0 in d:\\anaconda3\\envs\\langchainenv\\lib\\site-packages (from langchain-community<0.4.0,>=0.3.0->langchain_google_community) (8.5.0)\n",
      "Requirement already satisfied: dataclasses-json<0.7,>=0.5.7 in d:\\anaconda3\\envs\\langchainenv\\lib\\site-packages (from langchain-community<0.4.0,>=0.3.0->langchain_google_community) (0.6.7)\n",
      "Requirement already satisfied: pydantic-settings<3.0.0,>=2.4.0 in d:\\anaconda3\\envs\\langchainenv\\lib\\site-packages (from langchain-community<0.4.0,>=0.3.0->langchain_google_community) (2.6.0)\n",
      "Requirement already satisfied: langsmith<0.4,>=0.1.125 in d:\\anaconda3\\envs\\langchainenv\\lib\\site-packages (from langchain-community<0.4.0,>=0.3.0->langchain_google_community) (0.1.140)\n",
      "Requirement already satisfied: httpx-sse<1.0.0,>=0.4.0 in d:\\anaconda3\\envs\\langchainenv\\lib\\site-packages (from langchain-community<0.4.0,>=0.3.0->langchain_google_community) (0.4.0)\n",
      "Requirement already satisfied: numpy<3,>=1.26.2 in d:\\anaconda3\\envs\\langchainenv\\lib\\site-packages (from langchain-community<0.4.0,>=0.3.0->langchain_google_community) (1.26.4)\n",
      "Requirement already satisfied: jsonpatch<2.0,>=1.33 in d:\\anaconda3\\envs\\langchainenv\\lib\\site-packages (from langchain-core<0.4,>=0.3.0->langchain_google_community) (1.33)\n",
      "Requirement already satisfied: packaging<25,>=23.2 in d:\\anaconda3\\envs\\langchainenv\\lib\\site-packages (from langchain-core<0.4,>=0.3.0->langchain_google_community) (24.1)\n",
      "Requirement already satisfied: typing-extensions>=4.7 in d:\\anaconda3\\envs\\langchainenv\\lib\\site-packages (from langchain-core<0.4,>=0.3.0->langchain_google_community) (4.12.2)\n",
      "Requirement already satisfied: pydantic<3.0.0,>=2.5.2 in d:\\anaconda3\\envs\\langchainenv\\lib\\site-packages (from langchain-core<0.4,>=0.3.0->langchain_google_community) (2.8.2)\n",
      "Requirement already satisfied: aiohappyeyeballs>=2.3.0 in d:\\anaconda3\\envs\\langchainenv\\lib\\site-packages (from aiohttp<4.0.0,>=3.8.3->langchain-community<0.4.0,>=0.3.0->langchain_google_community) (2.4.3)\n",
      "Requirement already satisfied: aiosignal>=1.1.2 in d:\\anaconda3\\envs\\langchainenv\\lib\\site-packages (from aiohttp<4.0.0,>=3.8.3->langchain-community<0.4.0,>=0.3.0->langchain_google_community) (1.3.1)\n",
      "Requirement already satisfied: attrs>=17.3.0 in d:\\anaconda3\\envs\\langchainenv\\lib\\site-packages (from aiohttp<4.0.0,>=3.8.3->langchain-community<0.4.0,>=0.3.0->langchain_google_community) (24.2.0)\n",
      "Requirement already satisfied: frozenlist>=1.1.1 in d:\\anaconda3\\envs\\langchainenv\\lib\\site-packages (from aiohttp<4.0.0,>=3.8.3->langchain-community<0.4.0,>=0.3.0->langchain_google_community) (1.4.0)\n",
      "Requirement already satisfied: multidict<7.0,>=4.5 in d:\\anaconda3\\envs\\langchainenv\\lib\\site-packages (from aiohttp<4.0.0,>=3.8.3->langchain-community<0.4.0,>=0.3.0->langchain_google_community) (6.1.0)\n",
      "Requirement already satisfied: yarl<2.0,>=1.0 in d:\\anaconda3\\envs\\langchainenv\\lib\\site-packages (from aiohttp<4.0.0,>=3.8.3->langchain-community<0.4.0,>=0.3.0->langchain_google_community) (1.11.0)\n",
      "Requirement already satisfied: marshmallow<4.0.0,>=3.18.0 in d:\\anaconda3\\envs\\langchainenv\\lib\\site-packages (from dataclasses-json<0.7,>=0.5.7->langchain-community<0.4.0,>=0.3.0->langchain_google_community) (3.23.0)\n",
      "Requirement already satisfied: typing-inspect<1,>=0.4.0 in d:\\anaconda3\\envs\\langchainenv\\lib\\site-packages (from dataclasses-json<0.7,>=0.5.7->langchain-community<0.4.0,>=0.3.0->langchain_google_community) (0.9.0)\n",
      "Requirement already satisfied: cachetools<6.0,>=2.0.0 in d:\\anaconda3\\envs\\langchainenv\\lib\\site-packages (from google-auth<3.0.0,>=2.14.1->google-api-core<3.0.0,>=2.24.1->langchain_google_community) (5.5.0)\n",
      "Requirement already satisfied: pyasn1-modules>=0.2.1 in d:\\anaconda3\\envs\\langchainenv\\lib\\site-packages (from google-auth<3.0.0,>=2.14.1->google-api-core<3.0.0,>=2.24.1->langchain_google_community) (0.4.1)\n",
      "Requirement already satisfied: rsa<5,>=3.1.4 in d:\\anaconda3\\envs\\langchainenv\\lib\\site-packages (from google-auth<3.0.0,>=2.14.1->google-api-core<3.0.0,>=2.24.1->langchain_google_community) (4.9)\n",
      "Requirement already satisfied: pyparsing!=3.0.0,!=3.0.1,!=3.0.2,!=3.0.3,<4,>=2.4.2 in d:\\anaconda3\\envs\\langchainenv\\lib\\site-packages (from httplib2<1.0.0,>=0.19.0->google-api-python-client<3.0.0,>=2.161.0->langchain_google_community) (3.2.0)\n",
      "Requirement already satisfied: jsonpointer>=1.9 in d:\\anaconda3\\envs\\langchainenv\\lib\\site-packages (from jsonpatch<2.0,>=1.33->langchain-core<0.4,>=0.3.0->langchain_google_community) (2.0)\n",
      "Requirement already satisfied: langchain-text-splitters<1.0.0,>=0.3.6 in d:\\anaconda3\\envs\\langchainenv\\lib\\site-packages (from langchain<1.0.0,>=0.3.19->langchain-community<0.4.0,>=0.3.0->langchain_google_community) (0.3.6)\n",
      "Requirement already satisfied: httpx<1,>=0.23.0 in d:\\anaconda3\\envs\\langchainenv\\lib\\site-packages (from langsmith<0.4,>=0.1.125->langchain-community<0.4.0,>=0.3.0->langchain_google_community) (0.27.2)\n",
      "Requirement already satisfied: orjson<4.0.0,>=3.9.14 in d:\\anaconda3\\envs\\langchainenv\\lib\\site-packages (from langsmith<0.4,>=0.1.125->langchain-community<0.4.0,>=0.3.0->langchain_google_community) (3.10.7)\n",
      "Requirement already satisfied: requests-toolbelt<2.0.0,>=1.0.0 in d:\\anaconda3\\envs\\langchainenv\\lib\\site-packages (from langsmith<0.4,>=0.1.125->langchain-community<0.4.0,>=0.3.0->langchain_google_community) (1.0.0)\n",
      "Requirement already satisfied: annotated-types>=0.4.0 in d:\\anaconda3\\envs\\langchainenv\\lib\\site-packages (from pydantic<3.0.0,>=2.5.2->langchain-core<0.4,>=0.3.0->langchain_google_community) (0.7.0)\n",
      "Requirement already satisfied: pydantic-core==2.20.1 in d:\\anaconda3\\envs\\langchainenv\\lib\\site-packages (from pydantic<3.0.0,>=2.5.2->langchain-core<0.4,>=0.3.0->langchain_google_community) (2.20.1)\n",
      "Requirement already satisfied: python-dotenv>=0.21.0 in d:\\anaconda3\\envs\\langchainenv\\lib\\site-packages (from pydantic-settings<3.0.0,>=2.4.0->langchain-community<0.4.0,>=0.3.0->langchain_google_community) (1.0.1)\n",
      "Requirement already satisfied: charset-normalizer<4,>=2 in d:\\anaconda3\\envs\\langchainenv\\lib\\site-packages (from requests<3.0.0,>=2.18.0->google-api-core<3.0.0,>=2.24.1->langchain_google_community) (3.4.0)\n",
      "Requirement already satisfied: idna<4,>=2.5 in d:\\anaconda3\\envs\\langchainenv\\lib\\site-packages (from requests<3.0.0,>=2.18.0->google-api-core<3.0.0,>=2.24.1->langchain_google_community) (3.10)\n",
      "Requirement already satisfied: urllib3<3,>=1.21.1 in d:\\anaconda3\\envs\\langchainenv\\lib\\site-packages (from requests<3.0.0,>=2.18.0->google-api-core<3.0.0,>=2.24.1->langchain_google_community) (2.2.3)\n",
      "Requirement already satisfied: certifi>=2017.4.17 in d:\\anaconda3\\envs\\langchainenv\\lib\\site-packages (from requests<3.0.0,>=2.18.0->google-api-core<3.0.0,>=2.24.1->langchain_google_community) (2025.1.31)\n",
      "Requirement already satisfied: greenlet!=0.4.17 in d:\\anaconda3\\envs\\langchainenv\\lib\\site-packages (from SQLAlchemy<3,>=1.4->langchain-community<0.4.0,>=0.3.0->langchain_google_community) (3.0.1)\n",
      "Requirement already satisfied: anyio in d:\\anaconda3\\envs\\langchainenv\\lib\\site-packages (from httpx<1,>=0.23.0->langsmith<0.4,>=0.1.125->langchain-community<0.4.0,>=0.3.0->langchain_google_community) (4.6.2.post1)\n",
      "Requirement already satisfied: httpcore==1.* in d:\\anaconda3\\envs\\langchainenv\\lib\\site-packages (from httpx<1,>=0.23.0->langsmith<0.4,>=0.1.125->langchain-community<0.4.0,>=0.3.0->langchain_google_community) (1.0.6)\n",
      "Requirement already satisfied: sniffio in d:\\anaconda3\\envs\\langchainenv\\lib\\site-packages (from httpx<1,>=0.23.0->langsmith<0.4,>=0.1.125->langchain-community<0.4.0,>=0.3.0->langchain_google_community) (1.3.1)\n",
      "Requirement already satisfied: h11<0.15,>=0.13 in d:\\anaconda3\\envs\\langchainenv\\lib\\site-packages (from httpcore==1.*->httpx<1,>=0.23.0->langsmith<0.4,>=0.1.125->langchain-community<0.4.0,>=0.3.0->langchain_google_community) (0.14.0)\n",
      "Requirement already satisfied: pyasn1<0.7.0,>=0.4.6 in d:\\anaconda3\\envs\\langchainenv\\lib\\site-packages (from pyasn1-modules>=0.2.1->google-auth<3.0.0,>=2.14.1->google-api-core<3.0.0,>=2.24.1->langchain_google_community) (0.6.1)\n",
      "Requirement already satisfied: mypy-extensions>=0.3.0 in d:\\anaconda3\\envs\\langchainenv\\lib\\site-packages (from typing-inspect<1,>=0.4.0->dataclasses-json<0.7,>=0.5.7->langchain-community<0.4.0,>=0.3.0->langchain_google_community) (1.0.0)\n",
      "Downloading langchain_google_community-2.0.7-py3-none-any.whl (99 kB)\n",
      "Downloading google_api_core-2.24.2-py3-none-any.whl (160 kB)\n",
      "Downloading google_api_python_client-2.170.0-py3-none-any.whl (13.5 MB)\n",
      "   ---------------------------------------- 0.0/13.5 MB ? eta -:--:--\n",
      "    --------------------------------------- 0.3/13.5 MB ? eta -:--:--\n",
      "   -- ------------------------------------- 0.8/13.5 MB 2.1 MB/s eta 0:00:07\n",
      "   --- ------------------------------------ 1.3/13.5 MB 2.2 MB/s eta 0:00:06\n",
      "   ----- ---------------------------------- 1.8/13.5 MB 2.3 MB/s eta 0:00:05\n",
      "   ------ --------------------------------- 2.4/13.5 MB 2.5 MB/s eta 0:00:05\n",
      "   --------- ------------------------------ 3.1/13.5 MB 2.6 MB/s eta 0:00:04\n",
      "   ----------- ---------------------------- 3.9/13.5 MB 2.8 MB/s eta 0:00:04\n",
      "   ------------- -------------------------- 4.7/13.5 MB 2.9 MB/s eta 0:00:03\n",
      "   ---------------- ----------------------- 5.5/13.5 MB 3.0 MB/s eta 0:00:03\n",
      "   ------------------ --------------------- 6.3/13.5 MB 3.1 MB/s eta 0:00:03\n",
      "   -------------------- ------------------- 7.1/13.5 MB 3.1 MB/s eta 0:00:03\n",
      "   ------------------------ --------------- 8.1/13.5 MB 3.3 MB/s eta 0:00:02\n",
      "   --------------------------- ------------ 9.4/13.5 MB 3.5 MB/s eta 0:00:02\n",
      "   ------------------------------- -------- 10.5/13.5 MB 3.6 MB/s eta 0:00:01\n",
      "   ---------------------------------- ----- 11.5/13.5 MB 3.7 MB/s eta 0:00:01\n",
      "   ------------------------------------ --- 12.3/13.5 MB 3.8 MB/s eta 0:00:01\n",
      "   ---------------------------------------  13.4/13.5 MB 3.8 MB/s eta 0:00:01\n",
      "   ---------------------------------------- 13.5/13.5 MB 3.8 MB/s eta 0:00:00\n",
      "Downloading google_cloud_core-2.4.3-py2.py3-none-any.whl (29 kB)\n",
      "Downloading grpcio-1.71.0-cp312-cp312-win_amd64.whl (4.3 MB)\n",
      "   ---------------------------------------- 0.0/4.3 MB ? eta -:--:--\n",
      "   --------- ------------------------------ 1.0/4.3 MB 5.0 MB/s eta 0:00:01\n",
      "   ----------------- ---------------------- 1.8/4.3 MB 4.6 MB/s eta 0:00:01\n",
      "   -------------------------- ------------- 2.9/4.3 MB 4.8 MB/s eta 0:00:01\n",
      "   ------------------------------------ --- 3.9/4.3 MB 4.8 MB/s eta 0:00:01\n",
      "   ---------------------------------------- 4.3/4.3 MB 4.8 MB/s eta 0:00:00\n",
      "Installing collected packages: grpcio, google-api-core, google-cloud-core, google-api-python-client, langchain_google_community\n",
      "  Attempting uninstall: grpcio\n",
      "    Found existing installation: grpcio 1.67.0\n",
      "    Uninstalling grpcio-1.67.0:\n",
      "      Successfully uninstalled grpcio-1.67.0\n",
      "  Attempting uninstall: google-api-core\n",
      "    Found existing installation: google-api-core 2.21.0\n",
      "    Uninstalling google-api-core-2.21.0:\n",
      "      Successfully uninstalled google-api-core-2.21.0\n",
      "  Attempting uninstall: google-cloud-core\n",
      "    Found existing installation: google-cloud-core 2.4.1\n",
      "    Uninstalling google-cloud-core-2.4.1:\n",
      "      Successfully uninstalled google-cloud-core-2.4.1\n",
      "  Attempting uninstall: google-api-python-client\n",
      "    Found existing installation: google-api-python-client 2.149.0\n",
      "    Uninstalling google-api-python-client-2.149.0:\n",
      "      Successfully uninstalled google-api-python-client-2.149.0\n",
      "Successfully installed google-api-core-2.24.2 google-api-python-client-2.170.0 google-cloud-core-2.4.3 grpcio-1.71.0 langchain_google_community-2.0.7\n"
     ]
    }
   ],
   "source": [
    "!pip install langchain_google_community"
   ]
  },
  {
   "cell_type": "code",
   "execution_count": null,
   "id": "95a8d9d6",
   "metadata": {},
   "outputs": [],
   "source": []
  }
 ],
 "metadata": {
  "kernelspec": {
   "display_name": "langChainEnv",
   "language": "python",
   "name": "python3"
  },
  "language_info": {
   "codemirror_mode": {
    "name": "ipython",
    "version": 3
   },
   "file_extension": ".py",
   "mimetype": "text/x-python",
   "name": "python",
   "nbconvert_exporter": "python",
   "pygments_lexer": "ipython3",
   "version": "3.12.3"
  }
 },
 "nbformat": 4,
 "nbformat_minor": 5
}
