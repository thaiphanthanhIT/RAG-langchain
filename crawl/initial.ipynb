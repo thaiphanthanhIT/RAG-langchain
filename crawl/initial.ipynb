{
 "cells": [
  {
   "cell_type": "markdown",
   "id": "72aef454",
   "metadata": {},
   "source": [
    "# Crawl data \n",
    "[Hệ thống văn bản quy phạm pháp luật BTC](https://vbpq.mof.gov.vn/) \n",
    "\n",
    "[Selenium tutorials](https://selenium-python.readthedocs.io/installation.html)"
   ]
  },
  {
   "cell_type": "code",
   "execution_count": 1,
   "id": "13344e96",
   "metadata": {},
   "outputs": [
    {
     "name": "stdout",
     "output_type": "stream",
     "text": [
      "Collecting selenium\n",
      "  Downloading selenium-4.31.0-py3-none-any.whl.metadata (7.5 kB)\n",
      "Requirement already satisfied: urllib3<3,>=1.26 in d:\\anaconda3\\envs\\langchainenv\\lib\\site-packages (from urllib3[socks]<3,>=1.26->selenium) (2.2.3)\n",
      "Collecting trio~=0.17 (from selenium)\n",
      "  Downloading trio-0.29.0-py3-none-any.whl.metadata (8.5 kB)\n",
      "Collecting trio-websocket~=0.9 (from selenium)\n",
      "  Downloading trio_websocket-0.12.2-py3-none-any.whl.metadata (5.1 kB)\n",
      "Requirement already satisfied: certifi>=2021.10.8 in d:\\anaconda3\\envs\\langchainenv\\lib\\site-packages (from selenium) (2024.8.30)\n",
      "Requirement already satisfied: typing_extensions~=4.9 in d:\\anaconda3\\envs\\langchainenv\\lib\\site-packages (from selenium) (4.12.2)\n",
      "Collecting websocket-client~=1.8 (from selenium)\n",
      "  Downloading websocket_client-1.8.0-py3-none-any.whl.metadata (8.0 kB)\n",
      "Requirement already satisfied: attrs>=23.2.0 in d:\\anaconda3\\envs\\langchainenv\\lib\\site-packages (from trio~=0.17->selenium) (24.2.0)\n",
      "Collecting sortedcontainers (from trio~=0.17->selenium)\n",
      "  Downloading sortedcontainers-2.4.0-py2.py3-none-any.whl.metadata (10 kB)\n",
      "Requirement already satisfied: idna in d:\\anaconda3\\envs\\langchainenv\\lib\\site-packages (from trio~=0.17->selenium) (3.10)\n",
      "Collecting outcome (from trio~=0.17->selenium)\n",
      "  Downloading outcome-1.3.0.post0-py2.py3-none-any.whl.metadata (2.6 kB)\n",
      "Requirement already satisfied: sniffio>=1.3.0 in d:\\anaconda3\\envs\\langchainenv\\lib\\site-packages (from trio~=0.17->selenium) (1.3.1)\n",
      "Requirement already satisfied: cffi>=1.14 in d:\\anaconda3\\envs\\langchainenv\\lib\\site-packages (from trio~=0.17->selenium) (1.17.1)\n",
      "Requirement already satisfied: wsproto>=0.14 in d:\\anaconda3\\envs\\langchainenv\\lib\\site-packages (from trio-websocket~=0.9->selenium) (1.2.0)\n",
      "Requirement already satisfied: pysocks!=1.5.7,<2.0,>=1.5.6 in d:\\anaconda3\\envs\\langchainenv\\lib\\site-packages (from urllib3[socks]<3,>=1.26->selenium) (1.7.1)\n",
      "Requirement already satisfied: pycparser in d:\\anaconda3\\envs\\langchainenv\\lib\\site-packages (from cffi>=1.14->trio~=0.17->selenium) (2.22)\n",
      "Requirement already satisfied: h11<1,>=0.9.0 in d:\\anaconda3\\envs\\langchainenv\\lib\\site-packages (from wsproto>=0.14->trio-websocket~=0.9->selenium) (0.14.0)\n",
      "Downloading selenium-4.31.0-py3-none-any.whl (9.4 MB)\n",
      "   ---------------------------------------- 0.0/9.4 MB ? eta -:--:--\n",
      "   - -------------------------------------- 0.3/9.4 MB ? eta -:--:--\n",
      "   --- ------------------------------------ 0.8/9.4 MB 3.0 MB/s eta 0:00:03\n",
      "   ------ --------------------------------- 1.6/9.4 MB 3.0 MB/s eta 0:00:03\n",
      "   -------- ------------------------------- 2.1/9.4 MB 3.0 MB/s eta 0:00:03\n",
      "   ------------ --------------------------- 2.9/9.4 MB 3.1 MB/s eta 0:00:03\n",
      "   --------------- ------------------------ 3.7/9.4 MB 3.2 MB/s eta 0:00:02\n",
      "   ----------------- ---------------------- 4.2/9.4 MB 3.2 MB/s eta 0:00:02\n",
      "   --------------------- ------------------ 5.0/9.4 MB 3.2 MB/s eta 0:00:02\n",
      "   ------------------------ --------------- 5.8/9.4 MB 3.3 MB/s eta 0:00:02\n",
      "   -------------------------- ------------- 6.3/9.4 MB 3.3 MB/s eta 0:00:01\n",
      "   ------------------------------ --------- 7.1/9.4 MB 3.3 MB/s eta 0:00:01\n",
      "   --------------------------------- ------ 7.9/9.4 MB 3.3 MB/s eta 0:00:01\n",
      "   ----------------------------------- ---- 8.4/9.4 MB 3.3 MB/s eta 0:00:01\n",
      "   ---------------------------------------  9.2/9.4 MB 3.3 MB/s eta 0:00:01\n",
      "   ---------------------------------------- 9.4/9.4 MB 3.2 MB/s eta 0:00:00\n",
      "Downloading trio-0.29.0-py3-none-any.whl (492 kB)\n",
      "Downloading trio_websocket-0.12.2-py3-none-any.whl (21 kB)\n",
      "Downloading websocket_client-1.8.0-py3-none-any.whl (58 kB)\n",
      "Downloading outcome-1.3.0.post0-py2.py3-none-any.whl (10 kB)\n",
      "Downloading sortedcontainers-2.4.0-py2.py3-none-any.whl (29 kB)\n",
      "Installing collected packages: sortedcontainers, websocket-client, outcome, trio, trio-websocket, selenium\n",
      "Successfully installed outcome-1.3.0.post0 selenium-4.31.0 sortedcontainers-2.4.0 trio-0.29.0 trio-websocket-0.12.2 websocket-client-1.8.0\n"
     ]
    }
   ],
   "source": [
    "!pip install selenium"
   ]
  },
  {
   "cell_type": "markdown",
   "id": "507adc3e",
   "metadata": {},
   "source": [
    "#### Documentation note\n",
    "```\n",
    "from selenium import webdriver\n",
    "from selenium.webdriver.common.keys import Keys\n",
    "from selenium.webdriver.common.by import By\n",
    "```\n",
    "- The Keys class provide keys in the keyboard like RETURN, F1, ALT etc. \n",
    "- The By class is used to locate elements within a document."
   ]
  },
  {
   "cell_type": "markdown",
   "id": "955ffbca",
   "metadata": {},
   "source": [
    "WebDriver offers a number of ways to find elements using the find_element method. For example, the input text element can be located by its name attribute using the find_element method and using By.NAME as its first parameter. A detailed explanation of finding elements is available in the Locating Elements chapter: \n",
    "```\n",
    "elem = driver.find_element(By.NAME, \"q\")\n",
    "```"
   ]
  },
  {
   "cell_type": "code",
   "execution_count": null,
   "id": "4ba5a92a",
   "metadata": {},
   "outputs": [],
   "source": []
  }
 ],
 "metadata": {
  "kernelspec": {
   "display_name": "langChainEnv",
   "language": "python",
   "name": "python3"
  },
  "language_info": {
   "codemirror_mode": {
    "name": "ipython",
    "version": 3
   },
   "file_extension": ".py",
   "mimetype": "text/x-python",
   "name": "python",
   "nbconvert_exporter": "python",
   "pygments_lexer": "ipython3",
   "version": "3.12.7"
  }
 },
 "nbformat": 4,
 "nbformat_minor": 5
}
